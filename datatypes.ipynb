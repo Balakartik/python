{
  "nbformat": 4,
  "nbformat_minor": 0,
  "metadata": {
    "colab": {
      "provenance": []
    },
    "kernelspec": {
      "name": "python3",
      "display_name": "Python 3"
    },
    "language_info": {
      "name": "python"
    }
  },
  "cells": [
    {
      "cell_type": "code",
      "execution_count": null,
      "metadata": {
        "id": "dhBnb2G7Siaj"
      },
      "outputs": [],
      "source": []
    },
    {
      "cell_type": "markdown",
      "source": [
        "# **Data Types**\n",
        "\n",
        "Python Data types are the classification or categorization of data items. It represents the kind of value that tells what operations can be performed on a particular data. Since everything is an object in Python programming, Python data types are classes and variables are instances (objects) of these classes.\n",
        "\n",
        "**int (Integer)**: Represents whole numbers without a fractional part. Integers in Python can be of arbitrary precision, meaning they can be very large or very small, limited only by the available memory."
      ],
      "metadata": {
        "id": "aiCB1OH1Sq-z"
      }
    },
    {
      "cell_type": "code",
      "source": [
        "a = 5\n",
        "b = -12\n",
        "print(a)\n",
        "print(b)"
      ],
      "metadata": {
        "colab": {
          "base_uri": "https://localhost:8080/"
        },
        "id": "XnxCWradS5el",
        "outputId": "e4438146-d4fc-43a8-c319-95477d02760f"
      },
      "execution_count": 1,
      "outputs": [
        {
          "output_type": "stream",
          "name": "stdout",
          "text": [
            "5\n",
            "-12\n"
          ]
        }
      ]
    },
    {
      "cell_type": "markdown",
      "source": [
        "**float (Floating Point Number)**: Represents real numbers that include a fractional part, separated from the integer part by a decimal point. Floats are typically represented using double-precision (64-bit) format"
      ],
      "metadata": {
        "id": "lCXVwF8BTVQk"
      }
    },
    {
      "cell_type": "code",
      "source": [
        "x = 5.2\n",
        "y = -4.001\n",
        "print(x)\n",
        "print(y)"
      ],
      "metadata": {
        "colab": {
          "base_uri": "https://localhost:8080/"
        },
        "id": "KNyp1fGqTrO-",
        "outputId": "810f3563-d44c-43e5-f56d-5dac744b692d"
      },
      "execution_count": 2,
      "outputs": [
        {
          "output_type": "stream",
          "name": "stdout",
          "text": [
            "5.2\n",
            "-4.001\n"
          ]
        }
      ]
    },
    {
      "cell_type": "markdown",
      "source": [
        "**complex (Complex Number)**: Represents numbers with a real and an imaginary part. The imaginary part is denoted with a j or J. Complex numbers are used in various scientific and engineering calculations."
      ],
      "metadata": {
        "id": "g1PLBIcdUKXL"
      }
    },
    {
      "cell_type": "code",
      "source": [
        "a1 = 4 + 5j\n",
        "a2 = -1 - 4j\n",
        "print(a1)\n",
        "print(a2)"
      ],
      "metadata": {
        "colab": {
          "base_uri": "https://localhost:8080/"
        },
        "id": "3jStovp2UOXt",
        "outputId": "34b34188-2cb1-4ab1-c4fc-34f0c46a91c4"
      },
      "execution_count": 3,
      "outputs": [
        {
          "output_type": "stream",
          "name": "stdout",
          "text": [
            "(4+5j)\n",
            "(-1-4j)\n"
          ]
        }
      ]
    },
    {
      "cell_type": "markdown",
      "source": [
        "**bool (Boolean)**: Represents one of two values: True or False. Booleans are often used in conditional statements and logic operations to control the flow of a program. They are the result of comparison operators and logical operations."
      ],
      "metadata": {
        "id": "a8asUaEfUku_"
      }
    },
    {
      "cell_type": "code",
      "source": [
        "bool(0)"
      ],
      "metadata": {
        "colab": {
          "base_uri": "https://localhost:8080/"
        },
        "id": "pR9yydBCUsbf",
        "outputId": "72afd019-ec23-4d86-992d-b3c2670dd88b"
      },
      "execution_count": 4,
      "outputs": [
        {
          "output_type": "execute_result",
          "data": {
            "text/plain": [
              "False"
            ]
          },
          "metadata": {},
          "execution_count": 4
        }
      ]
    },
    {
      "cell_type": "code",
      "source": [
        "bool(1)"
      ],
      "metadata": {
        "colab": {
          "base_uri": "https://localhost:8080/"
        },
        "id": "06dXz3cLUyoh",
        "outputId": "dc2fd149-b631-4dc2-8d1c-781f9b10e586"
      },
      "execution_count": 5,
      "outputs": [
        {
          "output_type": "execute_result",
          "data": {
            "text/plain": [
              "True"
            ]
          },
          "metadata": {},
          "execution_count": 5
        }
      ]
    },
    {
      "cell_type": "markdown",
      "source": [
        "# **10 Examples for int**"
      ],
      "metadata": {
        "id": "ZbVyWbDaU4Mh"
      }
    },
    {
      "cell_type": "code",
      "source": [
        "a = 10\n",
        "b = -3\n",
        "c = 0\n",
        "d = 2024\n",
        "e = -5678\n",
        "f = 123456789\n",
        "g = 999\n",
        "h = -1\n",
        "i = 10000\n",
        "j = 0b101010\n",
        "print(a,b,c,d,e,f,g,h,i,j)"
      ],
      "metadata": {
        "colab": {
          "base_uri": "https://localhost:8080/"
        },
        "id": "hZHqeD4NVJz6",
        "outputId": "15a149e7-e8d2-4411-93fc-497b08e133d0"
      },
      "execution_count": 6,
      "outputs": [
        {
          "output_type": "stream",
          "name": "stdout",
          "text": [
            "10 -3 0 2024 -5678 123456789 999 -1 10000 42\n"
          ]
        }
      ]
    },
    {
      "cell_type": "markdown",
      "source": [
        "# **10 Examples for float**"
      ],
      "metadata": {
        "id": "uZmcQQcPVapl"
      }
    },
    {
      "cell_type": "code",
      "source": [
        "a = 3.14\n",
        "b = -0.001\n",
        "c = 100.0\n",
        "d = 0.0\n",
        "e = 2.718\n",
        "f = -50.5\n",
        "g = 1.23456789\n",
        "h = 0.1\n",
        "i = 5e-3\n",
        "j = 1.0e+2\n",
        "print(a,b,c,d,e,f,g,h,i,j)"
      ],
      "metadata": {
        "colab": {
          "base_uri": "https://localhost:8080/"
        },
        "id": "VwMau2lPVku8",
        "outputId": "1b7cae86-ef7b-4fc9-feb1-0b10c2c8cfcb"
      },
      "execution_count": 7,
      "outputs": [
        {
          "output_type": "stream",
          "name": "stdout",
          "text": [
            "3.14 -0.001 100.0 0.0 2.718 -50.5 1.23456789 0.1 0.005 100.0\n"
          ]
        }
      ]
    },
    {
      "cell_type": "markdown",
      "source": [
        "# **10 Examples for complex**"
      ],
      "metadata": {
        "id": "NrHnCnzVVt0f"
      }
    },
    {
      "cell_type": "code",
      "source": [
        "a = 10j\n",
        "b = -3+0j\n",
        "c = 1j\n",
        "d = 20+3j\n",
        "e = -56+45j\n",
        "f = 12+3j\n",
        "g = 9+4j\n",
        "h = -1-2j\n",
        "i = 10+20j\n",
        "j = -2j\n",
        "print(a,b,c,d,e,f,g,h,i,j)"
      ],
      "metadata": {
        "colab": {
          "base_uri": "https://localhost:8080/"
        },
        "id": "pFb2Tb_cV3yQ",
        "outputId": "bec1df5d-2e65-4ecb-ff05-8b4c1857db0f"
      },
      "execution_count": 8,
      "outputs": [
        {
          "output_type": "stream",
          "name": "stdout",
          "text": [
            "10j (-3+0j) 1j (20+3j) (-56+45j) (12+3j) (9+4j) (-1-2j) (10+20j) (-0-2j)\n"
          ]
        }
      ]
    },
    {
      "cell_type": "markdown",
      "source": [
        "# **10 Examples for bool**"
      ],
      "metadata": {
        "id": "mY3UoznNWwmZ"
      }
    },
    {
      "cell_type": "code",
      "source": [
        "a = True\n",
        "b = False\n",
        "c = True\n",
        "d = False\n",
        "e = True\n",
        "f = False\n",
        "g = True\n",
        "h = False\n",
        "i = True\n",
        "j = False\n",
        "print(a,b,c,d,e,f,g,h,i,j)"
      ],
      "metadata": {
        "colab": {
          "base_uri": "https://localhost:8080/"
        },
        "id": "ep6G4SYcW_mR",
        "outputId": "26f0f7ab-3f28-4783-9429-3ab1adfb4982"
      },
      "execution_count": 9,
      "outputs": [
        {
          "output_type": "stream",
          "name": "stdout",
          "text": [
            "True False True False True False True False True False\n"
          ]
        }
      ]
    }
  ]
}