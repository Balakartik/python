{
  "nbformat": 4,
  "nbformat_minor": 0,
  "metadata": {
    "colab": {
      "provenance": []
    },
    "kernelspec": {
      "name": "python3",
      "display_name": "Python 3"
    },
    "language_info": {
      "name": "python"
    }
  },
  "cells": [
    {
      "cell_type": "code",
      "execution_count": null,
      "metadata": {
        "id": "LZ_FHZQJ4XS6"
      },
      "outputs": [],
      "source": []
    },
    {
      "cell_type": "markdown",
      "source": [
        "# **What is an Operator?**\n",
        "\n",
        "In Python programming, Operators in general are used to perform operations on values and variables. These are standard symbols used for logical and arithmetic operations. In this article, we will look into different types of Python operators. An operator in programming is a symbol or a keyword that denotes a specific operation to be performed on data. Operators act as building blocks for creating expressions and enable the manipulation, comparison, and combination of values in code. They define the actions that can be performed on operands—such as variables, constants, or other expressions—and dictate how these operands interact with each other. Operators are used to perform operations such as arithmetic calculations, logical comparisons, and data manipulation. They help in defining the logic and control the flow of a program.\n",
        "\n",
        "\n",
        "**OPERATORS**: These are the special symbols. Eg- + , * , /, etc.\n",
        "\n",
        "\n",
        "**OPERAND**: It is the value on which the operator is applied.\n",
        "\n",
        "\n",
        "# **Types of Operators**\n",
        "\n",
        "**Arithmetic Operators**: Perform mathematical operations like addition, subtraction, multiplication, and division.\n",
        "\n",
        "**Comparison Operators**: Compare two values and return a boolean result (true or false) based on the comparison.\n",
        "\n",
        "**Logical Operators**: Combine or invert boolean values, allowing for complex logical expressions.\n",
        "\n",
        "**Assignment Operators**: Assign values to variables and may also perform an operation on the variable before assignment.\n",
        "\n",
        "**Bitwise Operators**: Operate on the binary representations of integers, performing bit-level operations.\n",
        "\n",
        "**Membership Operators**: Test for membership within a sequence (like a list or string).\n",
        "\n",
        "**Identity Operators**: Determine if two variables reference the same object in memory.\n",
        "\n",
        "# Arithmetic Operators\n",
        "\n",
        "+(Addition): Adds two values (e.g., 5 + 3 results in 8).\n",
        "\n",
        "-(Subtraction): Subtracts the second value from the first (e.g., 5 - 3 results in 2).\n",
        "\n",
        "*(Multiplication): Multiplies two values (e.g., 5 * 3 results in 15).\n",
        "\n",
        "/ (Division): Divides the first value by the second, returning a float (e.g., 5 / 2 results in 2.5).\n",
        "\n",
        "// (Floor Division): Divides the first value by the second, returning an integer (e.g., 5 // 2 results in 2).\n",
        "\n",
        "% (Modulus): Returns the remainder of the division (e.g., 5 % 2 results in 1).\n",
        "\n",
        "(Exponentiation): Raises the first value to the power of the second (e.g., 5 ** 2 results in 25)."
      ],
      "metadata": {
        "id": "QgK3EmdL4v4n"
      }
    },
    {
      "cell_type": "code",
      "source": [
        "a = 5\n",
        "b = 3\n",
        "\n",
        "result1 = a + b\n",
        "print(\"Addition:\", result1)\n",
        "\n",
        "result2 = a - b\n",
        "print(\"Subtraction:\", result2)\n",
        "\n",
        "result3 = a * b\n",
        "print(\"Multiplication:\", result3)\n",
        "\n",
        "result4 = a / b\n",
        "print(\"Division:\", result4)\n",
        "\n",
        "result5 = a // b\n",
        "print(\"Floor Division:\", result5)\n",
        "\n",
        "result6 = a % b\n",
        "print(\"Modulus:\", result6)\n",
        "\n",
        "result7 = a ** b\n",
        "print(\"Exponentiation:\", result7)\n",
        "\n",
        "c = -5\n",
        "result8 = c + b\n",
        "print(\"Addition with negative number:\", result8)\n",
        "\n",
        "d = 4.5\n",
        "result9 = d * b\n",
        "print(\"Multiplication with floats:\", result9)\n",
        "\n",
        "result10 = (a + b) * 2\n",
        "print(\"Mixed operations:\", result10)"
      ],
      "metadata": {
        "colab": {
          "base_uri": "https://localhost:8080/"
        },
        "id": "ddRWtzguCc9l",
        "outputId": "111014e6-db9c-4311-b4c4-741bd82e2e0e"
      },
      "execution_count": 1,
      "outputs": [
        {
          "output_type": "stream",
          "name": "stdout",
          "text": [
            "Addition: 8\n",
            "Subtraction: 2\n",
            "Multiplication: 15\n",
            "Division: 1.6666666666666667\n",
            "Floor Division: 1\n",
            "Modulus: 2\n",
            "Exponentiation: 125\n",
            "Addition with negative number: -2\n",
            "Multiplication with floats: 13.5\n",
            "Mixed operations: 16\n"
          ]
        }
      ]
    },
    {
      "cell_type": "markdown",
      "source": [
        "# Assignment Operators\n",
        "\n",
        "\n",
        "= (Assignment): Assigns a value to a variable (e.g., x = 5).\n",
        "\n",
        "+= (Add and assign): Adds a value to a variable and assigns the result (e.g., x\n",
        "\n",
        "+= 3 is equivalent to x = x + 3).\n",
        "\n",
        "-= (Subtract and assign): Subtracts a value from a variable and assigns the result (e.g., x -= 3 is equivalent to x = x - 3).\n",
        "\n",
        "*= (Multiply and assign): Multiplies a variable by a value and assigns the result (e.g., x *= 3 is equivalent to x = x * 3).\n",
        "\n",
        "/= (Divide and assign): Divides a variable by a value and assigns the result (e.g., x /= 3 is equivalent to x = x / 3).\n",
        "\n",
        "%= (Modulus and assign): Applies the modulus operation and assigns the result (e.g., x %= 3 is equivalent to x = x % 3).\n",
        "\n",
        "**= (Exponentiation and assign): Raises a variable to the power of a value and assigns the result (e.g., x **= 2 is equivalent to x = x ** 2)."
      ],
      "metadata": {
        "id": "Zk_lYtQaCv3n"
      }
    },
    {
      "cell_type": "code",
      "source": [
        "x = 5\n",
        "print(\"x:\", x)\n",
        "\n",
        "x += 3\n",
        "print(\"x += 3:\", x)\n",
        "\n",
        "x -= 2\n",
        "print(\"x -= 2:\", x)\n",
        "\n",
        "x *= 4\n",
        "print(\"x *= 4:\", x)\n",
        "\n",
        "x /= 6\n",
        "print(\"x /= 6:\", x)\n",
        "\n",
        "x %= 3\n",
        "print(\"x %= 3:\", x)\n",
        "\n",
        "x **= 2\n",
        "print(\"x **= 2:\", x)\n",
        "\n",
        "x //= 1\n",
        "print(\"x //= 1:\", x)\n",
        "\n",
        "x = 10\n",
        "print(\"x:\", x)\n",
        "\n",
        "x -= 5\n",
        "print(\"x -= 5:\", x)\n",
        "\n",
        "x *= 3\n",
        "print(\"x *= 3:\", x)"
      ],
      "metadata": {
        "colab": {
          "base_uri": "https://localhost:8080/"
        },
        "id": "Qwf-yKQlC_yx",
        "outputId": "10df9030-5d79-4ae0-bf67-f8e59031e415"
      },
      "execution_count": 2,
      "outputs": [
        {
          "output_type": "stream",
          "name": "stdout",
          "text": [
            "x: 5\n",
            "x += 3: 8\n",
            "x -= 2: 6\n",
            "x *= 4: 24\n",
            "x /= 6: 4.0\n",
            "x %= 3: 1.0\n",
            "x **= 2: 1.0\n",
            "x //= 1: 1.0\n",
            "x: 10\n",
            "x -= 5: 5\n",
            "x *= 3: 15\n"
          ]
        }
      ]
    },
    {
      "cell_type": "markdown",
      "source": [
        "# Comparison Operator\n",
        "\n",
        "== (Equal to): Checks if two values are equal (e.g., 5 == 3 results in False).\n",
        "\n",
        "!= (Not equal to): Checks if two values are not equal (e.g., 5 != 3 results in True).\n",
        "\n",
        "(Greater than)>: Checks if the first value is greater than the second (e.g., 5\n",
        " 3 results in True).\n",
        "\n",
        "< (Less than): Checks if the first value is less than the second (e.g., 5 < 3 results in False).\n",
        "\n",
        "(Greater than or equal to)>=: Checks if the first value is greater than or equal to the second (e.g., 5 >= 3 results in True).\n",
        "\n",
        "<= (Less than or equal to): Checks if the first value is less than or equal to the second (e.g., 5 <= 3 results in False)."
      ],
      "metadata": {
        "id": "59J28gnNDIqu"
      }
    },
    {
      "cell_type": "code",
      "source": [
        "x = 5\n",
        "y = 3\n",
        "\n",
        "result1 = (x == y)\n",
        "print(\"Equal to:\", result1)\n",
        "\n",
        "result2 = (x != y)\n",
        "print(\"Not equal to:\", result2)\n",
        "\n",
        "result3 = (x > y)\n",
        "print(\"Greater than:\", result3)\n",
        "\n",
        "result4 = (x < y)\n",
        "print(\"Less than:\", result4)\n",
        "\n",
        "result5 = (x >= y)\n",
        "print(\"Greater than or equal to:\", result5)\n",
        "\n",
        "result6 = (x <= y)\n",
        "print(\"Less than or equal to:\", result6)\n",
        "\n",
        "a=56\n",
        "b=78\n",
        "\n",
        "result7 = (a > b)\n",
        "print(\"Greater than:\", result3)\n",
        "\n",
        "result8 = (a < b)\n",
        "print(\"Less than:\", result4)\n",
        "\n",
        "result9 = (a >= b)\n",
        "print(\"Greater than or equal to:\", result5)\n",
        "\n",
        "result10 = (a <= b)\n",
        "print(\"Less than or equal to:\", result6)"
      ],
      "metadata": {
        "colab": {
          "base_uri": "https://localhost:8080/"
        },
        "id": "CuEtfl4-D-XH",
        "outputId": "8c1ac2a2-8c2d-41e4-bd54-a61922ce5ddc"
      },
      "execution_count": 3,
      "outputs": [
        {
          "output_type": "stream",
          "name": "stdout",
          "text": [
            "Equal to: False\n",
            "Not equal to: True\n",
            "Greater than: True\n",
            "Less than: False\n",
            "Greater than or equal to: True\n",
            "Less than or equal to: False\n",
            "Greater than: True\n",
            "Less than: False\n",
            "Greater than or equal to: True\n",
            "Less than or equal to: False\n"
          ]
        }
      ]
    },
    {
      "cell_type": "markdown",
      "source": [
        "# Logical Operators\n",
        "\n",
        "and: Returns True if both operands are true (e.g., (5 > 3) and (2 < 4) results\n",
        "in True).\n",
        "\n",
        "or: Returns True if at least one of the operands is true (e.g., (5 > 3) or (2 > 4) results in True).\n",
        "\n",
        "not: Returns True if the operand is false (e.g., not (5 > 3) results in False)."
      ],
      "metadata": {
        "id": "JIjMjyeyEF_L"
      }
    },
    {
      "cell_type": "code",
      "source": [
        "a = 5\n",
        "b = 3\n",
        "c = 2\n",
        "\n",
        "result1 = (a > b) and (c < b)\n",
        "print(\"AND:\", result1)\n",
        "\n",
        "result2 = (a > b) or (c > b)\n",
        "print(\"OR:\", result2)\n",
        "\n",
        "result3 = not (a > b)\n",
        "print(\"NOT:\", result3)\n",
        "\n",
        "result4 = (a > b) and (c > b)\n",
        "print(\"AND:\", result4)\n",
        "\n",
        "result5 = (a > b) or (c < b)\n",
        "print(\"OR:\", result5)\n",
        "\n",
        "result6 = not (c < b)\n",
        "print(\"NOT:\", result6)\n",
        "\n",
        "result7 = (a > b) and (c < b) and (b == 3)\n",
        "print(\"AND:\", result7)\n",
        "\n",
        "result8 = (a > b) or (c > b) or (b == 3)\n",
        "print(\"OR:\", result8)\n",
        "\n",
        "result9 = not (c > b)\n",
        "print(\"NOT:\", result9)\n",
        "\n",
        "result10 = not ((a > b) or (c < b))\n",
        "print(\"Combining Logical Operators:\", result10)"
      ],
      "metadata": {
        "colab": {
          "base_uri": "https://localhost:8080/"
        },
        "id": "nc4nc4IjEUtG",
        "outputId": "cd1a0a15-7907-4b67-9b03-18112731e64e"
      },
      "execution_count": 4,
      "outputs": [
        {
          "output_type": "stream",
          "name": "stdout",
          "text": [
            "AND: True\n",
            "OR: True\n",
            "NOT: False\n",
            "AND: False\n",
            "OR: True\n",
            "NOT: False\n",
            "AND: True\n",
            "OR: True\n",
            "NOT: True\n",
            "Combining Logical Operators: False\n"
          ]
        }
      ]
    },
    {
      "cell_type": "markdown",
      "source": [
        "# Identity Operators\n",
        "\n",
        "is: Returns True if two variables point to the same object (e.g., x is y).\n",
        "\n",
        "is not: Returns True if two variables point to different objects (e.g., x is not y)."
      ],
      "metadata": {
        "id": "OciLa_M1Pbtj"
      }
    },
    {
      "cell_type": "code",
      "source": [
        "str1 = \"hello\"\n",
        "str2 = \"world\"\n",
        "str3 = \"hello\"\n",
        "\n",
        "print(str1 is str2)\n",
        "print(str1 is str3)\n",
        "\n",
        "num1 = 300\n",
        "num2 = 300\n",
        "num3 = 10\n",
        "\n",
        "print(num1 is num2)\n",
        "print(num1 is not num3)\n",
        "\n",
        "float1 = 0.1\n",
        "float2 = 0.1\n",
        "float3 = 0.2\n",
        "\n",
        "print(float1 is float2)\n",
        "print(float1 is not float3)\n",
        "\n",
        "none1 = None\n",
        "none2 = None\n",
        "\n",
        "print(none1 is none2)\n",
        "print(none1 is not none2)\n",
        "\n",
        "bool1 = False\n",
        "bool2 = False\n",
        "bool3 = True\n",
        "\n",
        "print(bool1 is bool2)\n",
        "print(bool1 is not bool3)\n",
        "\n",
        "\n",
        "float4 = 1.5\n",
        "float5 = 1.5\n",
        "\n",
        "print(float4 is float5)\n",
        "print(float4 is not float5)\n",
        "\n",
        "small_int1 = 5\n",
        "small_int2 = 5\n",
        "small_int3 = 15\n",
        "\n",
        "print(small_int1 is small_int2)\n",
        "print(small_int1 is not small_int3)"
      ],
      "metadata": {
        "colab": {
          "base_uri": "https://localhost:8080/"
        },
        "id": "I9t9yk7yPrt1",
        "outputId": "03edcaff-e0bc-4f0a-d15e-e2accac37cc6"
      },
      "execution_count": 1,
      "outputs": [
        {
          "output_type": "stream",
          "name": "stdout",
          "text": [
            "False\n",
            "True\n",
            "False\n",
            "True\n",
            "False\n",
            "True\n",
            "True\n",
            "False\n",
            "True\n",
            "True\n",
            "False\n",
            "True\n",
            "True\n",
            "True\n"
          ]
        }
      ]
    },
    {
      "cell_type": "markdown",
      "source": [
        "# Membership Operators\n",
        "\n",
        "in: Returns True if a value is found in the sequence (e.g., 'a' in 'apple' results in True).\n",
        "\n",
        "not in: Returns True if a value is not found in the sequence (e.g., 'b' not in 'apple' results in True)."
      ],
      "metadata": {
        "id": "mD3LNQYcQCX6"
      }
    },
    {
      "cell_type": "code",
      "source": [
        "a = 10\n",
        "b = 20\n",
        "c = a\n",
        "\n",
        "print(a is not b)\n",
        "print(a is c)\n",
        "\n",
        "s1 = \"hello\"\n",
        "s2 = \"world\"\n",
        "s3 = \"hello\"\n",
        "\n",
        "print(s1 is not s2)\n",
        "print(s1 is s3)\n",
        "\n",
        "x = 100\n",
        "y = 100\n",
        "z = 200\n",
        "\n",
        "print(x is y)\n",
        "print(x is not z)\n",
        "\n",
        "f1 = 1.0\n",
        "f2 = 1.0\n",
        "f3 = 2.0\n",
        "\n",
        "print(f1 is not f3)\n",
        "print(f1 is f2)\n",
        "\n",
        "\n",
        "num1 = 10\n",
        "num2 = 10.0\n",
        "\n",
        "print(num1 is num2)\n",
        "print(num1 is not num2)\n",
        "\n",
        "str1 = \"example\"\n",
        "str2 = \"example\"\n",
        "\n",
        "print(str1 is str2)\n",
        "print(str1 is not str2)"
      ],
      "metadata": {
        "colab": {
          "base_uri": "https://localhost:8080/"
        },
        "id": "BZrL_yf2QKXW",
        "outputId": "7d4b4369-9c47-4b44-d6a5-1a4887718ccb"
      },
      "execution_count": 2,
      "outputs": [
        {
          "output_type": "stream",
          "name": "stdout",
          "text": [
            "True\n",
            "True\n",
            "True\n",
            "True\n",
            "True\n",
            "True\n",
            "True\n",
            "False\n",
            "False\n",
            "True\n",
            "True\n",
            "False\n"
          ]
        }
      ]
    },
    {
      "cell_type": "markdown",
      "source": [
        "# Bitwise Operators\n",
        "\n",
        "& (Bitwise AND): Performs a bitwise AND operation (e.g., 5 & 3 results in 1).\n",
        "\n",
        "| (Bitwise OR): Performs a bitwise OR operation (e.g., 5 | 3 results in 7).\n",
        "\n",
        "^ (Bitwise XOR): Performs a bitwise XOR operation (e.g., 5 ^ 3 results in 6).\n",
        "\n",
        "~ (Bitwise NOT): Inverts the bits (e.g., ~5 results in -6).\n",
        "\n",
        "<< (Left shift): Shifts bits to the left (e.g., 5 << 1 results in 10).\n",
        "\n",
        "(Right shift)>>: Shifts bits to the right (e.g., 5 >> 1 results in 2)."
      ],
      "metadata": {
        "id": "ywqYArQEQYdn"
      }
    },
    {
      "cell_type": "code",
      "source": [
        "a = 15\n",
        "b = 4\n",
        "result1 = a & b\n",
        "print(\"AND:\",result1)\n",
        "\n",
        "result2 = a | b\n",
        "print(\"OR:\",result2)\n",
        "\n",
        "result3 = a ^ b\n",
        "print(\"XOR:\",result3)\n",
        "\n",
        "result4 = ~a\n",
        "print(\"NOT:\",result4)\n",
        "\n",
        "result5 = a << 2\n",
        "print(\"Left Shift:\",result5)\n",
        "\n",
        "result6 = a >> 2\n",
        "print(\"Right Shif:\",result6)\n",
        "\n",
        "result7 = (a & b) | (a ^ b)\n",
        "print(\"Combining two Operators:\",result7)\n",
        "\n",
        "result8 = (a | b) & (a ^ b)\n",
        "print(\"Combining two Operators:\",result8)\n",
        "\n",
        "result9 = (a | b) ^ (a & b)\n",
        "print(\"Combining two Operators:\",result9)\n",
        "\n",
        "result10 = (a | b) & (a & b)\n",
        "print(\"Combining two Operators:\",result10)"
      ],
      "metadata": {
        "colab": {
          "base_uri": "https://localhost:8080/"
        },
        "id": "e7WDlJHyQ_-z",
        "outputId": "c8e5f1d7-3974-47c8-d7ca-4555a1ba285e"
      },
      "execution_count": 17,
      "outputs": [
        {
          "output_type": "stream",
          "name": "stdout",
          "text": [
            "AND: 4\n",
            "OR: 15\n",
            "XOR: 11\n",
            "NOT: -16\n",
            "Left Shift: 60\n",
            "Right Shif: 3\n",
            "Combining two Operators: 15\n",
            "Combining two Operators: 11\n",
            "Combining two Operators: 11\n",
            "Combining two Operators: 4\n"
          ]
        }
      ]
    },
    {
      "cell_type": "code",
      "source": [
        "51 & 18"
      ],
      "metadata": {
        "colab": {
          "base_uri": "https://localhost:8080/"
        },
        "id": "be7RayfIRaa5",
        "outputId": "9c75095d-7b85-4cf9-db10-a0405cbbb043"
      },
      "execution_count": 7,
      "outputs": [
        {
          "output_type": "execute_result",
          "data": {
            "text/plain": [
              "18"
            ]
          },
          "metadata": {},
          "execution_count": 7
        }
      ]
    },
    {
      "cell_type": "code",
      "source": [
        "276 & 28"
      ],
      "metadata": {
        "colab": {
          "base_uri": "https://localhost:8080/"
        },
        "id": "SGPnAzv2RatW",
        "outputId": "8465866c-2c94-4d31-a476-567359d0defc"
      },
      "execution_count": 8,
      "outputs": [
        {
          "output_type": "execute_result",
          "data": {
            "text/plain": [
              "20"
            ]
          },
          "metadata": {},
          "execution_count": 8
        }
      ]
    },
    {
      "cell_type": "code",
      "source": [
        "403 | 95"
      ],
      "metadata": {
        "colab": {
          "base_uri": "https://localhost:8080/"
        },
        "id": "I4tZEmyTRa66",
        "outputId": "ad6ed6b1-d180-45ea-8182-454f71499431"
      },
      "execution_count": 9,
      "outputs": [
        {
          "output_type": "execute_result",
          "data": {
            "text/plain": [
              "479"
            ]
          },
          "metadata": {},
          "execution_count": 9
        }
      ]
    },
    {
      "cell_type": "code",
      "source": [
        "576 | 7"
      ],
      "metadata": {
        "colab": {
          "base_uri": "https://localhost:8080/"
        },
        "id": "UVpAfDE2RbHI",
        "outputId": "3ddd375f-14a9-4adf-8bbe-7093bf9ff8f5"
      },
      "execution_count": 10,
      "outputs": [
        {
          "output_type": "execute_result",
          "data": {
            "text/plain": [
              "583"
            ]
          },
          "metadata": {},
          "execution_count": 10
        }
      ]
    },
    {
      "cell_type": "code",
      "source": [
        "420 ^ 99"
      ],
      "metadata": {
        "colab": {
          "base_uri": "https://localhost:8080/"
        },
        "id": "-DSPalMuRbS6",
        "outputId": "0b581e18-634e-4d36-cf5f-041711aa387d"
      },
      "execution_count": 11,
      "outputs": [
        {
          "output_type": "execute_result",
          "data": {
            "text/plain": [
              "455"
            ]
          },
          "metadata": {},
          "execution_count": 11
        }
      ]
    },
    {
      "cell_type": "code",
      "source": [
        "782 << 0"
      ],
      "metadata": {
        "colab": {
          "base_uri": "https://localhost:8080/"
        },
        "id": "WjeIhgWSRbeB",
        "outputId": "1fcdede6-7c71-4c89-b3b3-af410c344255"
      },
      "execution_count": 12,
      "outputs": [
        {
          "output_type": "execute_result",
          "data": {
            "text/plain": [
              "782"
            ]
          },
          "metadata": {},
          "execution_count": 12
        }
      ]
    },
    {
      "cell_type": "code",
      "source": [
        "143 << 2"
      ],
      "metadata": {
        "colab": {
          "base_uri": "https://localhost:8080/"
        },
        "id": "A7T-rIf1S7hQ",
        "outputId": "4c36ce41-c55c-49ee-d3d1-25bcdc6aef3b"
      },
      "execution_count": 13,
      "outputs": [
        {
          "output_type": "execute_result",
          "data": {
            "text/plain": [
              "572"
            ]
          },
          "metadata": {},
          "execution_count": 13
        }
      ]
    },
    {
      "cell_type": "code",
      "source": [
        "878 >> 3"
      ],
      "metadata": {
        "colab": {
          "base_uri": "https://localhost:8080/"
        },
        "id": "W3GfuTLaS71E",
        "outputId": "9c5c4692-7b31-4f84-fe2c-6cc3107acb64"
      },
      "execution_count": 14,
      "outputs": [
        {
          "output_type": "execute_result",
          "data": {
            "text/plain": [
              "109"
            ]
          },
          "metadata": {},
          "execution_count": 14
        }
      ]
    },
    {
      "cell_type": "code",
      "source": [
        "973 >> 4"
      ],
      "metadata": {
        "colab": {
          "base_uri": "https://localhost:8080/"
        },
        "id": "_pwOdyLAS8Xc",
        "outputId": "0cbd287b-9363-4548-aa8c-59853499ad75"
      },
      "execution_count": 15,
      "outputs": [
        {
          "output_type": "execute_result",
          "data": {
            "text/plain": [
              "60"
            ]
          },
          "metadata": {},
          "execution_count": 15
        }
      ]
    }
  ]
}